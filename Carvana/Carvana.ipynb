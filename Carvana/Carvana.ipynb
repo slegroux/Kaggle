{
 "cells": [
  {
   "cell_type": "code",
   "execution_count": 39,
   "metadata": {},
   "outputs": [
    {
     "name": "stdout",
     "output_type": "stream",
     "text": [
      "[u'seaborn-darkgrid', u'seaborn-notebook', u'classic', u'seaborn-ticks', u'grayscale', u'bmh', u'seaborn-talk', u'dark_background', u'ggplot', u'fivethirtyeight', u'_classic_test', u'seaborn-colorblind', u'seaborn-deep', u'seaborn-whitegrid', u'seaborn-bright', u'seaborn-poster', u'seaborn-muted', u'seaborn-paper', u'seaborn-white', u'seaborn-pastel', u'seaborn-dark', u'seaborn', u'seaborn-dark-palette']\n"
     ]
    }
   ],
   "source": [
    "import pandas as pd\n",
    "import numpy as np\n",
    "from matplotlib import pyplot as plt\n",
    "%matplotlib inline\n",
    "print(plt.style.available)\n",
    "# plt.style.use('seaborn-pastel')\n",
    "plt.style.use('seaborn-notebook')\n",
    "# plt.style.use('classic')\n",
    "from sklearn import linear_model\n",
    "from sklearn import preprocessing\n",
    "from sklearn import model_selection\n",
    "from sklearn.model_selection import train_test_split"
   ]
  },
  {
   "cell_type": "markdown",
   "metadata": {},
   "source": [
    "# 1) Import data"
   ]
  },
  {
   "cell_type": "code",
   "execution_count": 40,
   "metadata": {
    "collapsed": true
   },
   "outputs": [],
   "source": [
    "test = pd.read_csv('test.csv', index_col='RefId')\n",
    "training = pd.read_csv('training.csv', index_col='RefId')"
   ]
  },
  {
   "cell_type": "code",
   "execution_count": 41,
   "metadata": {},
   "outputs": [
    {
     "data": {
      "text/html": [
       "<div>\n",
       "<table border=\"1\" class=\"dataframe\">\n",
       "  <thead>\n",
       "    <tr style=\"text-align: right;\">\n",
       "      <th></th>\n",
       "      <th>IsBadBuy</th>\n",
       "      <th>PurchDate</th>\n",
       "      <th>Auction</th>\n",
       "      <th>VehYear</th>\n",
       "      <th>VehicleAge</th>\n",
       "      <th>Make</th>\n",
       "      <th>Model</th>\n",
       "      <th>Trim</th>\n",
       "      <th>SubModel</th>\n",
       "      <th>Color</th>\n",
       "      <th>...</th>\n",
       "      <th>MMRCurrentRetailAveragePrice</th>\n",
       "      <th>MMRCurrentRetailCleanPrice</th>\n",
       "      <th>PRIMEUNIT</th>\n",
       "      <th>AUCGUART</th>\n",
       "      <th>BYRNO</th>\n",
       "      <th>VNZIP1</th>\n",
       "      <th>VNST</th>\n",
       "      <th>VehBCost</th>\n",
       "      <th>IsOnlineSale</th>\n",
       "      <th>WarrantyCost</th>\n",
       "    </tr>\n",
       "    <tr>\n",
       "      <th>RefId</th>\n",
       "      <th></th>\n",
       "      <th></th>\n",
       "      <th></th>\n",
       "      <th></th>\n",
       "      <th></th>\n",
       "      <th></th>\n",
       "      <th></th>\n",
       "      <th></th>\n",
       "      <th></th>\n",
       "      <th></th>\n",
       "      <th></th>\n",
       "      <th></th>\n",
       "      <th></th>\n",
       "      <th></th>\n",
       "      <th></th>\n",
       "      <th></th>\n",
       "      <th></th>\n",
       "      <th></th>\n",
       "      <th></th>\n",
       "      <th></th>\n",
       "      <th></th>\n",
       "    </tr>\n",
       "  </thead>\n",
       "  <tbody>\n",
       "    <tr>\n",
       "      <th>1</th>\n",
       "      <td>0</td>\n",
       "      <td>12/7/2009</td>\n",
       "      <td>ADESA</td>\n",
       "      <td>2006</td>\n",
       "      <td>3</td>\n",
       "      <td>MAZDA</td>\n",
       "      <td>MAZDA3</td>\n",
       "      <td>i</td>\n",
       "      <td>4D SEDAN I</td>\n",
       "      <td>RED</td>\n",
       "      <td>...</td>\n",
       "      <td>11597.0</td>\n",
       "      <td>12409.0</td>\n",
       "      <td>NaN</td>\n",
       "      <td>NaN</td>\n",
       "      <td>21973</td>\n",
       "      <td>33619</td>\n",
       "      <td>FL</td>\n",
       "      <td>7100.0</td>\n",
       "      <td>0</td>\n",
       "      <td>1113</td>\n",
       "    </tr>\n",
       "    <tr>\n",
       "      <th>2</th>\n",
       "      <td>0</td>\n",
       "      <td>12/7/2009</td>\n",
       "      <td>ADESA</td>\n",
       "      <td>2004</td>\n",
       "      <td>5</td>\n",
       "      <td>DODGE</td>\n",
       "      <td>1500 RAM PICKUP 2WD</td>\n",
       "      <td>ST</td>\n",
       "      <td>QUAD CAB 4.7L SLT</td>\n",
       "      <td>WHITE</td>\n",
       "      <td>...</td>\n",
       "      <td>11374.0</td>\n",
       "      <td>12791.0</td>\n",
       "      <td>NaN</td>\n",
       "      <td>NaN</td>\n",
       "      <td>19638</td>\n",
       "      <td>33619</td>\n",
       "      <td>FL</td>\n",
       "      <td>7600.0</td>\n",
       "      <td>0</td>\n",
       "      <td>1053</td>\n",
       "    </tr>\n",
       "    <tr>\n",
       "      <th>3</th>\n",
       "      <td>0</td>\n",
       "      <td>12/7/2009</td>\n",
       "      <td>ADESA</td>\n",
       "      <td>2005</td>\n",
       "      <td>4</td>\n",
       "      <td>DODGE</td>\n",
       "      <td>STRATUS V6</td>\n",
       "      <td>SXT</td>\n",
       "      <td>4D SEDAN SXT FFV</td>\n",
       "      <td>MAROON</td>\n",
       "      <td>...</td>\n",
       "      <td>7146.0</td>\n",
       "      <td>8702.0</td>\n",
       "      <td>NaN</td>\n",
       "      <td>NaN</td>\n",
       "      <td>19638</td>\n",
       "      <td>33619</td>\n",
       "      <td>FL</td>\n",
       "      <td>4900.0</td>\n",
       "      <td>0</td>\n",
       "      <td>1389</td>\n",
       "    </tr>\n",
       "    <tr>\n",
       "      <th>4</th>\n",
       "      <td>0</td>\n",
       "      <td>12/7/2009</td>\n",
       "      <td>ADESA</td>\n",
       "      <td>2004</td>\n",
       "      <td>5</td>\n",
       "      <td>DODGE</td>\n",
       "      <td>NEON</td>\n",
       "      <td>SXT</td>\n",
       "      <td>4D SEDAN</td>\n",
       "      <td>SILVER</td>\n",
       "      <td>...</td>\n",
       "      <td>4375.0</td>\n",
       "      <td>5518.0</td>\n",
       "      <td>NaN</td>\n",
       "      <td>NaN</td>\n",
       "      <td>19638</td>\n",
       "      <td>33619</td>\n",
       "      <td>FL</td>\n",
       "      <td>4100.0</td>\n",
       "      <td>0</td>\n",
       "      <td>630</td>\n",
       "    </tr>\n",
       "    <tr>\n",
       "      <th>5</th>\n",
       "      <td>0</td>\n",
       "      <td>12/7/2009</td>\n",
       "      <td>ADESA</td>\n",
       "      <td>2005</td>\n",
       "      <td>4</td>\n",
       "      <td>FORD</td>\n",
       "      <td>FOCUS</td>\n",
       "      <td>ZX3</td>\n",
       "      <td>2D COUPE ZX3</td>\n",
       "      <td>SILVER</td>\n",
       "      <td>...</td>\n",
       "      <td>6739.0</td>\n",
       "      <td>7911.0</td>\n",
       "      <td>NaN</td>\n",
       "      <td>NaN</td>\n",
       "      <td>19638</td>\n",
       "      <td>33619</td>\n",
       "      <td>FL</td>\n",
       "      <td>4000.0</td>\n",
       "      <td>0</td>\n",
       "      <td>1020</td>\n",
       "    </tr>\n",
       "  </tbody>\n",
       "</table>\n",
       "<p>5 rows × 33 columns</p>\n",
       "</div>"
      ],
      "text/plain": [
       "       IsBadBuy  PurchDate Auction  VehYear  VehicleAge   Make  \\\n",
       "RefId                                                            \n",
       "1             0  12/7/2009   ADESA     2006           3  MAZDA   \n",
       "2             0  12/7/2009   ADESA     2004           5  DODGE   \n",
       "3             0  12/7/2009   ADESA     2005           4  DODGE   \n",
       "4             0  12/7/2009   ADESA     2004           5  DODGE   \n",
       "5             0  12/7/2009   ADESA     2005           4   FORD   \n",
       "\n",
       "                     Model Trim           SubModel   Color      ...       \\\n",
       "RefId                                                           ...        \n",
       "1                   MAZDA3    i         4D SEDAN I     RED      ...        \n",
       "2      1500 RAM PICKUP 2WD   ST  QUAD CAB 4.7L SLT   WHITE      ...        \n",
       "3               STRATUS V6  SXT   4D SEDAN SXT FFV  MAROON      ...        \n",
       "4                     NEON  SXT           4D SEDAN  SILVER      ...        \n",
       "5                    FOCUS  ZX3       2D COUPE ZX3  SILVER      ...        \n",
       "\n",
       "      MMRCurrentRetailAveragePrice  MMRCurrentRetailCleanPrice PRIMEUNIT  \\\n",
       "RefId                                                                      \n",
       "1                          11597.0                     12409.0       NaN   \n",
       "2                          11374.0                     12791.0       NaN   \n",
       "3                           7146.0                      8702.0       NaN   \n",
       "4                           4375.0                      5518.0       NaN   \n",
       "5                           6739.0                      7911.0       NaN   \n",
       "\n",
       "       AUCGUART  BYRNO VNZIP1 VNST  VehBCost  IsOnlineSale  WarrantyCost  \n",
       "RefId                                                                     \n",
       "1           NaN  21973  33619   FL    7100.0             0          1113  \n",
       "2           NaN  19638  33619   FL    7600.0             0          1053  \n",
       "3           NaN  19638  33619   FL    4900.0             0          1389  \n",
       "4           NaN  19638  33619   FL    4100.0             0           630  \n",
       "5           NaN  19638  33619   FL    4000.0             0          1020  \n",
       "\n",
       "[5 rows x 33 columns]"
      ]
     },
     "execution_count": 41,
     "metadata": {},
     "output_type": "execute_result"
    }
   ],
   "source": [
    "training.head()"
   ]
  },
  {
   "cell_type": "code",
   "execution_count": 42,
   "metadata": {},
   "outputs": [
    {
     "name": "stdout",
     "output_type": "stream",
     "text": [
      "Index([u'IsBadBuy', u'PurchDate', u'Auction', u'VehYear', u'VehicleAge',\n",
      "       u'Make', u'Model', u'Trim', u'SubModel', u'Color', u'Transmission',\n",
      "       u'WheelTypeID', u'WheelType', u'VehOdo', u'Nationality', u'Size',\n",
      "       u'TopThreeAmericanName', u'MMRAcquisitionAuctionAveragePrice',\n",
      "       u'MMRAcquisitionAuctionCleanPrice', u'MMRAcquisitionRetailAveragePrice',\n",
      "       u'MMRAcquisitonRetailCleanPrice', u'MMRCurrentAuctionAveragePrice',\n",
      "       u'MMRCurrentAuctionCleanPrice', u'MMRCurrentRetailAveragePrice',\n",
      "       u'MMRCurrentRetailCleanPrice', u'PRIMEUNIT', u'AUCGUART', u'BYRNO',\n",
      "       u'VNZIP1', u'VNST', u'VehBCost', u'IsOnlineSale', u'WarrantyCost'],\n",
      "      dtype='object')\n"
     ]
    }
   ],
   "source": [
    "print training.columns"
   ]
  },
  {
   "cell_type": "markdown",
   "metadata": {},
   "source": [
    "# 2) Define data types"
   ]
  },
  {
   "cell_type": "markdown",
   "metadata": {},
   "source": [
    "Based on the info given by Carvana_Data_Dictionary.txt, we can separate different type of features"
   ]
  },
  {
   "cell_type": "markdown",
   "metadata": {},
   "source": [
    "## 2.1) External info"
   ]
  },
  {
   "cell_type": "markdown",
   "metadata": {},
   "source": [
    "### Data types\n",
    "\n",
    "- **IDs**:\n",
    "    - RefID\t\t\t\t    Unique (sequential) number assigned to vehicles\n",
    "    - BYRNO\t\t\t\t\tUnique number assigned to the buyer that purchased the vehicle\n",
    "\n",
    "\n",
    "- **Target**:\n",
    "    - IsBadBuy\t\t\t\tIdentifies if the kicked vehicle was an avoidable purchase \n",
    "\n",
    "\n",
    "- **Time information**:\n",
    "    - PurchDate\t\t\t\tThe Date the vehicle was Purchased at Auction\n",
    "    // VehYear & year are redundant we keep Age\n",
    "    - VehYear\t\t\t\tThe manufacturer's year of the vehicle\n",
    "    - VehicleAge\t\t\tThe Years elapsed since the manufacturer's year\n",
    "  \n",
    "  \n",
    "- **Categorical**:\n",
    "    - Auction\t\t\t\tAuction provider at which the  vehicle was purchased\n",
    "    - Make\t\t\t\t\tVehicle Manufacturer\n",
    "    - Model\t\t\t\t\tVehicle Model\n",
    "    - SubModel\t\t\t\tVehicle Submodel\n",
    "    - Color\t\t\t\t\tVehicle Color\n",
    "    - Transmission\t\t\tVehicles transmission type (Automatic, Manual)\n",
    "    - WheelTypeID\t\t\tThe type id of the vehicle wheel\n",
    "    - WheelType\t\t\t\tThe vehicle wheel type description (Alloy, Covers)\n",
    "    //wheeType and wheeltypeID are redundant\n",
    "    - Nationality\t\t\tThe Manufacturer's country\n",
    "    - TopThreeAmericanName\tIdentifies if the manufacturer is one of the top three American manufacturers\n",
    "    // acquisition type doesn't seem to be in the data\n",
    "    - AcquisitionType\tIdentifies how the vehicle was aquired (Auction buy, trade in, etc)\n",
    "    - VNZIP             Zipcode where the car was purchased\n",
    "    - VNST              State where the the car was purchased\n",
    "\n",
    "\n",
    "- **Binary Category**:\n",
    "    - PRIMEUNIT\t\t\tIdentifies if the vehicle would have a higher demand than a standard purchase\n",
    "    - IsOnlineSale\t\tIdentifies if the vehicle was originally purchased online\n",
    "\n",
    "    \n",
    "- **Ordinal**:\n",
    "    - Trim\t\t\t\tVehicle Trim Level\n",
    "    - Size\t\t\t\tThe size category of the vehicle (Compact, SUV, etc.)\n",
    "    - AUCGUART\t\t\tThe level guarntee provided by auction for the vehicle (Green light - Guaranteed/arbitratable, Yellow Light - caution/issue, red light - sold as is)\n",
    "\n",
    "\n",
    "- **Interval**\n",
    "    - VehOdo\t\t\tThe vehicles odometer reading\n",
    "    - MMRAcquisitionAuctionAveragePrice\tAcquisition price for this vehicle in average condition at time of purchase\n",
    "    - MMRAcquisitionAuctionCleanPrice\t\tAcquisition price for this vehicle in the above Average condition at time of purchase\n",
    "    - MMRAcquisitionRetailAveragePrice\tAcquisition price for this vehicle in the retail market in average condition at time of purchase\n",
    "    - MMRAcquisitonRetailCleanPrice\t\tAcquisition price for this vehicle in the retail market in above average condition at time of purchase\n",
    "    - MMRCurrentAuctionAveragePrice\t\tAcquisition price for this vehicle in average condition as of current day\t\n",
    "    - MMRCurrentAuctionCleanPrice\t\tAcquisition price for this vehicle in the above condition as of current day\n",
    "    - MMRCurrentRetailAveragePrice\t\tAcquisition price for this vehicle in the retail market in average condition as of current day\n",
    "    - MMRCurrentRetailCleanPrice\t\tAcquisition price for this vehicle in the retail market in above average condition as of current day\n",
    "    - VehBCost\t\t\t\tAcquisition cost paid for the vehicle at time of purchase\n",
    "    - WarrantyCost                            Warranty price (term=36month  and millage=36K)\n",
    "    // we consider vehicle age here\n",
    "    - VehicleAge\t\t\tThe Years elapsed since the manufacturer's year\n"
   ]
  },
  {
   "cell_type": "markdown",
   "metadata": {},
   "source": [
    "## 2.2) Define timed type"
   ]
  },
  {
   "cell_type": "code",
   "execution_count": 43,
   "metadata": {
    "collapsed": true
   },
   "outputs": [],
   "source": [
    "training['PurchDate'] = pd.to_datetime(training['PurchDate'])\n",
    "dates = ['PurchDate', 'VehicleAge']"
   ]
  },
  {
   "cell_type": "code",
   "execution_count": 44,
   "metadata": {},
   "outputs": [
    {
     "data": {
      "text/html": [
       "<div>\n",
       "<table border=\"1\" class=\"dataframe\">\n",
       "  <thead>\n",
       "    <tr style=\"text-align: right;\">\n",
       "      <th></th>\n",
       "      <th>PurchDate</th>\n",
       "      <th>VehicleAge</th>\n",
       "    </tr>\n",
       "    <tr>\n",
       "      <th>RefId</th>\n",
       "      <th></th>\n",
       "      <th></th>\n",
       "    </tr>\n",
       "  </thead>\n",
       "  <tbody>\n",
       "    <tr>\n",
       "      <th>1</th>\n",
       "      <td>2009-12-07</td>\n",
       "      <td>3</td>\n",
       "    </tr>\n",
       "    <tr>\n",
       "      <th>2</th>\n",
       "      <td>2009-12-07</td>\n",
       "      <td>5</td>\n",
       "    </tr>\n",
       "    <tr>\n",
       "      <th>3</th>\n",
       "      <td>2009-12-07</td>\n",
       "      <td>4</td>\n",
       "    </tr>\n",
       "    <tr>\n",
       "      <th>4</th>\n",
       "      <td>2009-12-07</td>\n",
       "      <td>5</td>\n",
       "    </tr>\n",
       "    <tr>\n",
       "      <th>5</th>\n",
       "      <td>2009-12-07</td>\n",
       "      <td>4</td>\n",
       "    </tr>\n",
       "  </tbody>\n",
       "</table>\n",
       "</div>"
      ],
      "text/plain": [
       "       PurchDate  VehicleAge\n",
       "RefId                       \n",
       "1     2009-12-07           3\n",
       "2     2009-12-07           5\n",
       "3     2009-12-07           4\n",
       "4     2009-12-07           5\n",
       "5     2009-12-07           4"
      ]
     },
     "execution_count": 44,
     "metadata": {},
     "output_type": "execute_result"
    }
   ],
   "source": [
    "training[dates].head()"
   ]
  },
  {
   "cell_type": "markdown",
   "metadata": {},
   "source": [
    "## 2.3) Define category type"
   ]
  },
  {
   "cell_type": "code",
   "execution_count": 45,
   "metadata": {
    "collapsed": true
   },
   "outputs": [],
   "source": [
    "training.IsBadBuy = training.IsBadBuy.astype('category')"
   ]
  },
  {
   "cell_type": "code",
   "execution_count": 46,
   "metadata": {},
   "outputs": [
    {
     "data": {
      "text/html": [
       "<div>\n",
       "<table border=\"1\" class=\"dataframe\">\n",
       "  <thead>\n",
       "    <tr style=\"text-align: right;\">\n",
       "      <th></th>\n",
       "      <th>Auction</th>\n",
       "      <th>Make</th>\n",
       "      <th>Model</th>\n",
       "      <th>SubModel</th>\n",
       "      <th>Color</th>\n",
       "      <th>Transmission</th>\n",
       "      <th>WheelType</th>\n",
       "      <th>Nationality</th>\n",
       "      <th>TopThreeAmericanName</th>\n",
       "      <th>VNZIP1</th>\n",
       "      <th>VNST</th>\n",
       "      <th>PRIMEUNIT</th>\n",
       "      <th>IsOnlineSale</th>\n",
       "    </tr>\n",
       "    <tr>\n",
       "      <th>RefId</th>\n",
       "      <th></th>\n",
       "      <th></th>\n",
       "      <th></th>\n",
       "      <th></th>\n",
       "      <th></th>\n",
       "      <th></th>\n",
       "      <th></th>\n",
       "      <th></th>\n",
       "      <th></th>\n",
       "      <th></th>\n",
       "      <th></th>\n",
       "      <th></th>\n",
       "      <th></th>\n",
       "    </tr>\n",
       "  </thead>\n",
       "  <tbody>\n",
       "    <tr>\n",
       "      <th>1</th>\n",
       "      <td>ADESA</td>\n",
       "      <td>MAZDA</td>\n",
       "      <td>MAZDA3</td>\n",
       "      <td>4D SEDAN I</td>\n",
       "      <td>RED</td>\n",
       "      <td>AUTO</td>\n",
       "      <td>Alloy</td>\n",
       "      <td>OTHER ASIAN</td>\n",
       "      <td>OTHER</td>\n",
       "      <td>33619</td>\n",
       "      <td>FL</td>\n",
       "      <td>NaN</td>\n",
       "      <td>0</td>\n",
       "    </tr>\n",
       "    <tr>\n",
       "      <th>2</th>\n",
       "      <td>ADESA</td>\n",
       "      <td>DODGE</td>\n",
       "      <td>1500 RAM PICKUP 2WD</td>\n",
       "      <td>QUAD CAB 4.7L SLT</td>\n",
       "      <td>WHITE</td>\n",
       "      <td>AUTO</td>\n",
       "      <td>Alloy</td>\n",
       "      <td>AMERICAN</td>\n",
       "      <td>CHRYSLER</td>\n",
       "      <td>33619</td>\n",
       "      <td>FL</td>\n",
       "      <td>NaN</td>\n",
       "      <td>0</td>\n",
       "    </tr>\n",
       "    <tr>\n",
       "      <th>3</th>\n",
       "      <td>ADESA</td>\n",
       "      <td>DODGE</td>\n",
       "      <td>STRATUS V6</td>\n",
       "      <td>4D SEDAN SXT FFV</td>\n",
       "      <td>MAROON</td>\n",
       "      <td>AUTO</td>\n",
       "      <td>Covers</td>\n",
       "      <td>AMERICAN</td>\n",
       "      <td>CHRYSLER</td>\n",
       "      <td>33619</td>\n",
       "      <td>FL</td>\n",
       "      <td>NaN</td>\n",
       "      <td>0</td>\n",
       "    </tr>\n",
       "    <tr>\n",
       "      <th>4</th>\n",
       "      <td>ADESA</td>\n",
       "      <td>DODGE</td>\n",
       "      <td>NEON</td>\n",
       "      <td>4D SEDAN</td>\n",
       "      <td>SILVER</td>\n",
       "      <td>AUTO</td>\n",
       "      <td>Alloy</td>\n",
       "      <td>AMERICAN</td>\n",
       "      <td>CHRYSLER</td>\n",
       "      <td>33619</td>\n",
       "      <td>FL</td>\n",
       "      <td>NaN</td>\n",
       "      <td>0</td>\n",
       "    </tr>\n",
       "    <tr>\n",
       "      <th>5</th>\n",
       "      <td>ADESA</td>\n",
       "      <td>FORD</td>\n",
       "      <td>FOCUS</td>\n",
       "      <td>2D COUPE ZX3</td>\n",
       "      <td>SILVER</td>\n",
       "      <td>MANUAL</td>\n",
       "      <td>Covers</td>\n",
       "      <td>AMERICAN</td>\n",
       "      <td>FORD</td>\n",
       "      <td>33619</td>\n",
       "      <td>FL</td>\n",
       "      <td>NaN</td>\n",
       "      <td>0</td>\n",
       "    </tr>\n",
       "  </tbody>\n",
       "</table>\n",
       "</div>"
      ],
      "text/plain": [
       "      Auction   Make                Model           SubModel   Color  \\\n",
       "RefId                                                                  \n",
       "1       ADESA  MAZDA               MAZDA3         4D SEDAN I     RED   \n",
       "2       ADESA  DODGE  1500 RAM PICKUP 2WD  QUAD CAB 4.7L SLT   WHITE   \n",
       "3       ADESA  DODGE           STRATUS V6   4D SEDAN SXT FFV  MAROON   \n",
       "4       ADESA  DODGE                 NEON           4D SEDAN  SILVER   \n",
       "5       ADESA   FORD                FOCUS       2D COUPE ZX3  SILVER   \n",
       "\n",
       "      Transmission WheelType  Nationality TopThreeAmericanName VNZIP1 VNST  \\\n",
       "RefId                                                                        \n",
       "1             AUTO     Alloy  OTHER ASIAN                OTHER  33619   FL   \n",
       "2             AUTO     Alloy     AMERICAN             CHRYSLER  33619   FL   \n",
       "3             AUTO    Covers     AMERICAN             CHRYSLER  33619   FL   \n",
       "4             AUTO     Alloy     AMERICAN             CHRYSLER  33619   FL   \n",
       "5           MANUAL    Covers     AMERICAN                 FORD  33619   FL   \n",
       "\n",
       "      PRIMEUNIT IsOnlineSale  \n",
       "RefId                         \n",
       "1           NaN            0  \n",
       "2           NaN            0  \n",
       "3           NaN            0  \n",
       "4           NaN            0  \n",
       "5           NaN            0  "
      ]
     },
     "execution_count": 46,
     "metadata": {},
     "output_type": "execute_result"
    }
   ],
   "source": [
    "categories = ['Auction', 'Make', 'Model', 'SubModel', 'Color','Transmission',\\\n",
    "              'WheelType', 'Nationality', 'TopThreeAmericanName',\\\n",
    "              'VNZIP1','VNST', 'PRIMEUNIT', 'IsOnlineSale']\n",
    "\n",
    "for cat in categories:\n",
    "    training[cat] = training[cat].astype('category')\n",
    "\n",
    "training[categories].head()"
   ]
  },
  {
   "cell_type": "code",
   "execution_count": 47,
   "metadata": {},
   "outputs": [
    {
     "data": {
      "text/html": [
       "<div>\n",
       "<table border=\"1\" class=\"dataframe\">\n",
       "  <thead>\n",
       "    <tr style=\"text-align: right;\">\n",
       "      <th></th>\n",
       "      <th>Trim</th>\n",
       "      <th>Size</th>\n",
       "      <th>AUCGUART</th>\n",
       "    </tr>\n",
       "    <tr>\n",
       "      <th>RefId</th>\n",
       "      <th></th>\n",
       "      <th></th>\n",
       "      <th></th>\n",
       "    </tr>\n",
       "  </thead>\n",
       "  <tbody>\n",
       "    <tr>\n",
       "      <th>1</th>\n",
       "      <td>i</td>\n",
       "      <td>MEDIUM</td>\n",
       "      <td>NaN</td>\n",
       "    </tr>\n",
       "    <tr>\n",
       "      <th>2</th>\n",
       "      <td>ST</td>\n",
       "      <td>LARGE TRUCK</td>\n",
       "      <td>NaN</td>\n",
       "    </tr>\n",
       "    <tr>\n",
       "      <th>3</th>\n",
       "      <td>SXT</td>\n",
       "      <td>MEDIUM</td>\n",
       "      <td>NaN</td>\n",
       "    </tr>\n",
       "    <tr>\n",
       "      <th>4</th>\n",
       "      <td>SXT</td>\n",
       "      <td>COMPACT</td>\n",
       "      <td>NaN</td>\n",
       "    </tr>\n",
       "    <tr>\n",
       "      <th>5</th>\n",
       "      <td>ZX3</td>\n",
       "      <td>COMPACT</td>\n",
       "      <td>NaN</td>\n",
       "    </tr>\n",
       "  </tbody>\n",
       "</table>\n",
       "</div>"
      ],
      "text/plain": [
       "      Trim         Size AUCGUART\n",
       "RefId                           \n",
       "1        i       MEDIUM      NaN\n",
       "2       ST  LARGE TRUCK      NaN\n",
       "3      SXT       MEDIUM      NaN\n",
       "4      SXT      COMPACT      NaN\n",
       "5      ZX3      COMPACT      NaN"
      ]
     },
     "execution_count": 47,
     "metadata": {},
     "output_type": "execute_result"
    }
   ],
   "source": [
    "ordinal = ['Trim', 'Size', 'AUCGUART']\n",
    "# for cat in categories:\n",
    "#     training[cat] = training[cat].astype('category')\n",
    "\n",
    "training[ordinal].head()"
   ]
  },
  {
   "cell_type": "markdown",
   "metadata": {},
   "source": [
    "## 2.4) Define interval type"
   ]
  },
  {
   "cell_type": "code",
   "execution_count": 48,
   "metadata": {},
   "outputs": [
    {
     "data": {
      "text/html": [
       "<div>\n",
       "<table border=\"1\" class=\"dataframe\">\n",
       "  <thead>\n",
       "    <tr style=\"text-align: right;\">\n",
       "      <th></th>\n",
       "      <th>VehOdo</th>\n",
       "      <th>MMRAcquisitionAuctionAveragePrice</th>\n",
       "      <th>MMRAcquisitionAuctionCleanPrice</th>\n",
       "      <th>MMRAcquisitionRetailAveragePrice</th>\n",
       "      <th>MMRAcquisitonRetailCleanPrice</th>\n",
       "      <th>MMRCurrentAuctionAveragePrice</th>\n",
       "      <th>MMRCurrentAuctionCleanPrice</th>\n",
       "      <th>MMRCurrentRetailAveragePrice</th>\n",
       "      <th>MMRCurrentRetailCleanPrice</th>\n",
       "      <th>VehBCost</th>\n",
       "      <th>WarrantyCost</th>\n",
       "      <th>VehicleAge</th>\n",
       "    </tr>\n",
       "    <tr>\n",
       "      <th>RefId</th>\n",
       "      <th></th>\n",
       "      <th></th>\n",
       "      <th></th>\n",
       "      <th></th>\n",
       "      <th></th>\n",
       "      <th></th>\n",
       "      <th></th>\n",
       "      <th></th>\n",
       "      <th></th>\n",
       "      <th></th>\n",
       "      <th></th>\n",
       "      <th></th>\n",
       "    </tr>\n",
       "  </thead>\n",
       "  <tbody>\n",
       "    <tr>\n",
       "      <th>1</th>\n",
       "      <td>89046</td>\n",
       "      <td>8155.0</td>\n",
       "      <td>9829.0</td>\n",
       "      <td>11636.0</td>\n",
       "      <td>13600.0</td>\n",
       "      <td>7451.0</td>\n",
       "      <td>8552.0</td>\n",
       "      <td>11597.0</td>\n",
       "      <td>12409.0</td>\n",
       "      <td>7100.0</td>\n",
       "      <td>1113</td>\n",
       "      <td>3</td>\n",
       "    </tr>\n",
       "    <tr>\n",
       "      <th>2</th>\n",
       "      <td>93593</td>\n",
       "      <td>6854.0</td>\n",
       "      <td>8383.0</td>\n",
       "      <td>10897.0</td>\n",
       "      <td>12572.0</td>\n",
       "      <td>7456.0</td>\n",
       "      <td>9222.0</td>\n",
       "      <td>11374.0</td>\n",
       "      <td>12791.0</td>\n",
       "      <td>7600.0</td>\n",
       "      <td>1053</td>\n",
       "      <td>5</td>\n",
       "    </tr>\n",
       "    <tr>\n",
       "      <th>3</th>\n",
       "      <td>73807</td>\n",
       "      <td>3202.0</td>\n",
       "      <td>4760.0</td>\n",
       "      <td>6943.0</td>\n",
       "      <td>8457.0</td>\n",
       "      <td>4035.0</td>\n",
       "      <td>5557.0</td>\n",
       "      <td>7146.0</td>\n",
       "      <td>8702.0</td>\n",
       "      <td>4900.0</td>\n",
       "      <td>1389</td>\n",
       "      <td>4</td>\n",
       "    </tr>\n",
       "    <tr>\n",
       "      <th>4</th>\n",
       "      <td>65617</td>\n",
       "      <td>1893.0</td>\n",
       "      <td>2675.0</td>\n",
       "      <td>4658.0</td>\n",
       "      <td>5690.0</td>\n",
       "      <td>1844.0</td>\n",
       "      <td>2646.0</td>\n",
       "      <td>4375.0</td>\n",
       "      <td>5518.0</td>\n",
       "      <td>4100.0</td>\n",
       "      <td>630</td>\n",
       "      <td>5</td>\n",
       "    </tr>\n",
       "    <tr>\n",
       "      <th>5</th>\n",
       "      <td>69367</td>\n",
       "      <td>3913.0</td>\n",
       "      <td>5054.0</td>\n",
       "      <td>7723.0</td>\n",
       "      <td>8707.0</td>\n",
       "      <td>3247.0</td>\n",
       "      <td>4384.0</td>\n",
       "      <td>6739.0</td>\n",
       "      <td>7911.0</td>\n",
       "      <td>4000.0</td>\n",
       "      <td>1020</td>\n",
       "      <td>4</td>\n",
       "    </tr>\n",
       "  </tbody>\n",
       "</table>\n",
       "</div>"
      ],
      "text/plain": [
       "       VehOdo  MMRAcquisitionAuctionAveragePrice  \\\n",
       "RefId                                              \n",
       "1       89046                             8155.0   \n",
       "2       93593                             6854.0   \n",
       "3       73807                             3202.0   \n",
       "4       65617                             1893.0   \n",
       "5       69367                             3913.0   \n",
       "\n",
       "       MMRAcquisitionAuctionCleanPrice  MMRAcquisitionRetailAveragePrice  \\\n",
       "RefId                                                                      \n",
       "1                               9829.0                           11636.0   \n",
       "2                               8383.0                           10897.0   \n",
       "3                               4760.0                            6943.0   \n",
       "4                               2675.0                            4658.0   \n",
       "5                               5054.0                            7723.0   \n",
       "\n",
       "       MMRAcquisitonRetailCleanPrice  MMRCurrentAuctionAveragePrice  \\\n",
       "RefId                                                                 \n",
       "1                            13600.0                         7451.0   \n",
       "2                            12572.0                         7456.0   \n",
       "3                             8457.0                         4035.0   \n",
       "4                             5690.0                         1844.0   \n",
       "5                             8707.0                         3247.0   \n",
       "\n",
       "       MMRCurrentAuctionCleanPrice  MMRCurrentRetailAveragePrice  \\\n",
       "RefId                                                              \n",
       "1                           8552.0                       11597.0   \n",
       "2                           9222.0                       11374.0   \n",
       "3                           5557.0                        7146.0   \n",
       "4                           2646.0                        4375.0   \n",
       "5                           4384.0                        6739.0   \n",
       "\n",
       "       MMRCurrentRetailCleanPrice  VehBCost  WarrantyCost  VehicleAge  \n",
       "RefId                                                                  \n",
       "1                         12409.0    7100.0          1113           3  \n",
       "2                         12791.0    7600.0          1053           5  \n",
       "3                          8702.0    4900.0          1389           4  \n",
       "4                          5518.0    4100.0           630           5  \n",
       "5                          7911.0    4000.0          1020           4  "
      ]
     },
     "execution_count": 48,
     "metadata": {},
     "output_type": "execute_result"
    }
   ],
   "source": [
    "interval = ['VehOdo', 'MMRAcquisitionAuctionAveragePrice','MMRAcquisitionAuctionCleanPrice',\\\n",
    "           'MMRAcquisitionRetailAveragePrice', 'MMRAcquisitonRetailCleanPrice',\\\n",
    "            'MMRCurrentAuctionAveragePrice','MMRCurrentAuctionCleanPrice',\\\n",
    "            'MMRCurrentRetailAveragePrice', 'MMRCurrentRetailCleanPrice',\n",
    "            'VehBCost','WarrantyCost', 'VehicleAge'\n",
    "           ]\n",
    "training[interval].head()"
   ]
  },
  {
   "cell_type": "markdown",
   "metadata": {},
   "source": [
    "# 3) Exploratory Analysis"
   ]
  },
  {
   "cell_type": "code",
   "execution_count": 49,
   "metadata": {},
   "outputs": [
    {
     "data": {
      "text/html": [
       "<div>\n",
       "<table border=\"1\" class=\"dataframe\">\n",
       "  <thead>\n",
       "    <tr style=\"text-align: right;\">\n",
       "      <th></th>\n",
       "      <th>VehYear</th>\n",
       "      <th>VehicleAge</th>\n",
       "      <th>WheelTypeID</th>\n",
       "      <th>VehOdo</th>\n",
       "      <th>MMRAcquisitionAuctionAveragePrice</th>\n",
       "      <th>MMRAcquisitionAuctionCleanPrice</th>\n",
       "      <th>MMRAcquisitionRetailAveragePrice</th>\n",
       "      <th>MMRAcquisitonRetailCleanPrice</th>\n",
       "      <th>MMRCurrentAuctionAveragePrice</th>\n",
       "      <th>MMRCurrentAuctionCleanPrice</th>\n",
       "      <th>MMRCurrentRetailAveragePrice</th>\n",
       "      <th>MMRCurrentRetailCleanPrice</th>\n",
       "      <th>BYRNO</th>\n",
       "      <th>VehBCost</th>\n",
       "      <th>WarrantyCost</th>\n",
       "    </tr>\n",
       "  </thead>\n",
       "  <tbody>\n",
       "    <tr>\n",
       "      <th>count</th>\n",
       "      <td>72983.000000</td>\n",
       "      <td>72983.000000</td>\n",
       "      <td>69814.000000</td>\n",
       "      <td>72983.000000</td>\n",
       "      <td>72965.000000</td>\n",
       "      <td>72965.000000</td>\n",
       "      <td>72965.000000</td>\n",
       "      <td>72965.000000</td>\n",
       "      <td>72668.000000</td>\n",
       "      <td>72668.000000</td>\n",
       "      <td>72668.000000</td>\n",
       "      <td>72668.000000</td>\n",
       "      <td>72983.000000</td>\n",
       "      <td>72983.000000</td>\n",
       "      <td>72983.000000</td>\n",
       "    </tr>\n",
       "    <tr>\n",
       "      <th>mean</th>\n",
       "      <td>2005.343052</td>\n",
       "      <td>4.176644</td>\n",
       "      <td>1.494299</td>\n",
       "      <td>71499.995917</td>\n",
       "      <td>6128.909217</td>\n",
       "      <td>7373.636031</td>\n",
       "      <td>8497.034332</td>\n",
       "      <td>9850.928240</td>\n",
       "      <td>6132.081287</td>\n",
       "      <td>7390.681827</td>\n",
       "      <td>8775.723331</td>\n",
       "      <td>10145.385314</td>\n",
       "      <td>26345.842155</td>\n",
       "      <td>6730.934326</td>\n",
       "      <td>1276.580985</td>\n",
       "    </tr>\n",
       "    <tr>\n",
       "      <th>std</th>\n",
       "      <td>1.731252</td>\n",
       "      <td>1.712210</td>\n",
       "      <td>0.521290</td>\n",
       "      <td>14578.913128</td>\n",
       "      <td>2461.992768</td>\n",
       "      <td>2722.491986</td>\n",
       "      <td>3156.285284</td>\n",
       "      <td>3385.789541</td>\n",
       "      <td>2434.567723</td>\n",
       "      <td>2686.248852</td>\n",
       "      <td>3090.702941</td>\n",
       "      <td>3310.254351</td>\n",
       "      <td>25717.351219</td>\n",
       "      <td>1767.846435</td>\n",
       "      <td>598.846788</td>\n",
       "    </tr>\n",
       "    <tr>\n",
       "      <th>min</th>\n",
       "      <td>2001.000000</td>\n",
       "      <td>0.000000</td>\n",
       "      <td>0.000000</td>\n",
       "      <td>4825.000000</td>\n",
       "      <td>0.000000</td>\n",
       "      <td>0.000000</td>\n",
       "      <td>0.000000</td>\n",
       "      <td>0.000000</td>\n",
       "      <td>0.000000</td>\n",
       "      <td>0.000000</td>\n",
       "      <td>0.000000</td>\n",
       "      <td>0.000000</td>\n",
       "      <td>835.000000</td>\n",
       "      <td>1.000000</td>\n",
       "      <td>462.000000</td>\n",
       "    </tr>\n",
       "    <tr>\n",
       "      <th>25%</th>\n",
       "      <td>2004.000000</td>\n",
       "      <td>3.000000</td>\n",
       "      <td>1.000000</td>\n",
       "      <td>61837.000000</td>\n",
       "      <td>4273.000000</td>\n",
       "      <td>5406.000000</td>\n",
       "      <td>6280.000000</td>\n",
       "      <td>7493.000000</td>\n",
       "      <td>4275.000000</td>\n",
       "      <td>5414.000000</td>\n",
       "      <td>6536.000000</td>\n",
       "      <td>7784.000000</td>\n",
       "      <td>17212.000000</td>\n",
       "      <td>5435.000000</td>\n",
       "      <td>837.000000</td>\n",
       "    </tr>\n",
       "    <tr>\n",
       "      <th>50%</th>\n",
       "      <td>2005.000000</td>\n",
       "      <td>4.000000</td>\n",
       "      <td>1.000000</td>\n",
       "      <td>73361.000000</td>\n",
       "      <td>6097.000000</td>\n",
       "      <td>7303.000000</td>\n",
       "      <td>8444.000000</td>\n",
       "      <td>9789.000000</td>\n",
       "      <td>6062.000000</td>\n",
       "      <td>7313.000000</td>\n",
       "      <td>8729.000000</td>\n",
       "      <td>10103.000000</td>\n",
       "      <td>19662.000000</td>\n",
       "      <td>6700.000000</td>\n",
       "      <td>1155.000000</td>\n",
       "    </tr>\n",
       "    <tr>\n",
       "      <th>75%</th>\n",
       "      <td>2007.000000</td>\n",
       "      <td>5.000000</td>\n",
       "      <td>2.000000</td>\n",
       "      <td>82436.000000</td>\n",
       "      <td>7765.000000</td>\n",
       "      <td>9021.000000</td>\n",
       "      <td>10651.000000</td>\n",
       "      <td>12088.000000</td>\n",
       "      <td>7736.000000</td>\n",
       "      <td>9013.000000</td>\n",
       "      <td>10911.000000</td>\n",
       "      <td>12309.000000</td>\n",
       "      <td>22808.000000</td>\n",
       "      <td>7900.000000</td>\n",
       "      <td>1623.000000</td>\n",
       "    </tr>\n",
       "    <tr>\n",
       "      <th>max</th>\n",
       "      <td>2010.000000</td>\n",
       "      <td>9.000000</td>\n",
       "      <td>3.000000</td>\n",
       "      <td>115717.000000</td>\n",
       "      <td>35722.000000</td>\n",
       "      <td>36859.000000</td>\n",
       "      <td>39080.000000</td>\n",
       "      <td>41482.000000</td>\n",
       "      <td>35722.000000</td>\n",
       "      <td>36859.000000</td>\n",
       "      <td>39080.000000</td>\n",
       "      <td>41062.000000</td>\n",
       "      <td>99761.000000</td>\n",
       "      <td>45469.000000</td>\n",
       "      <td>7498.000000</td>\n",
       "    </tr>\n",
       "  </tbody>\n",
       "</table>\n",
       "</div>"
      ],
      "text/plain": [
       "            VehYear    VehicleAge   WheelTypeID         VehOdo  \\\n",
       "count  72983.000000  72983.000000  69814.000000   72983.000000   \n",
       "mean    2005.343052      4.176644      1.494299   71499.995917   \n",
       "std        1.731252      1.712210      0.521290   14578.913128   \n",
       "min     2001.000000      0.000000      0.000000    4825.000000   \n",
       "25%     2004.000000      3.000000      1.000000   61837.000000   \n",
       "50%     2005.000000      4.000000      1.000000   73361.000000   \n",
       "75%     2007.000000      5.000000      2.000000   82436.000000   \n",
       "max     2010.000000      9.000000      3.000000  115717.000000   \n",
       "\n",
       "       MMRAcquisitionAuctionAveragePrice  MMRAcquisitionAuctionCleanPrice  \\\n",
       "count                       72965.000000                     72965.000000   \n",
       "mean                         6128.909217                      7373.636031   \n",
       "std                          2461.992768                      2722.491986   \n",
       "min                             0.000000                         0.000000   \n",
       "25%                          4273.000000                      5406.000000   \n",
       "50%                          6097.000000                      7303.000000   \n",
       "75%                          7765.000000                      9021.000000   \n",
       "max                         35722.000000                     36859.000000   \n",
       "\n",
       "       MMRAcquisitionRetailAveragePrice  MMRAcquisitonRetailCleanPrice  \\\n",
       "count                      72965.000000                   72965.000000   \n",
       "mean                        8497.034332                    9850.928240   \n",
       "std                         3156.285284                    3385.789541   \n",
       "min                            0.000000                       0.000000   \n",
       "25%                         6280.000000                    7493.000000   \n",
       "50%                         8444.000000                    9789.000000   \n",
       "75%                        10651.000000                   12088.000000   \n",
       "max                        39080.000000                   41482.000000   \n",
       "\n",
       "       MMRCurrentAuctionAveragePrice  MMRCurrentAuctionCleanPrice  \\\n",
       "count                   72668.000000                 72668.000000   \n",
       "mean                     6132.081287                  7390.681827   \n",
       "std                      2434.567723                  2686.248852   \n",
       "min                         0.000000                     0.000000   \n",
       "25%                      4275.000000                  5414.000000   \n",
       "50%                      6062.000000                  7313.000000   \n",
       "75%                      7736.000000                  9013.000000   \n",
       "max                     35722.000000                 36859.000000   \n",
       "\n",
       "       MMRCurrentRetailAveragePrice  MMRCurrentRetailCleanPrice         BYRNO  \\\n",
       "count                  72668.000000                72668.000000  72983.000000   \n",
       "mean                    8775.723331                10145.385314  26345.842155   \n",
       "std                     3090.702941                 3310.254351  25717.351219   \n",
       "min                        0.000000                    0.000000    835.000000   \n",
       "25%                     6536.000000                 7784.000000  17212.000000   \n",
       "50%                     8729.000000                10103.000000  19662.000000   \n",
       "75%                    10911.000000                12309.000000  22808.000000   \n",
       "max                    39080.000000                41062.000000  99761.000000   \n",
       "\n",
       "           VehBCost  WarrantyCost  \n",
       "count  72983.000000  72983.000000  \n",
       "mean    6730.934326   1276.580985  \n",
       "std     1767.846435    598.846788  \n",
       "min        1.000000    462.000000  \n",
       "25%     5435.000000    837.000000  \n",
       "50%     6700.000000   1155.000000  \n",
       "75%     7900.000000   1623.000000  \n",
       "max    45469.000000   7498.000000  "
      ]
     },
     "execution_count": 49,
     "metadata": {},
     "output_type": "execute_result"
    }
   ],
   "source": [
    "training.describe()"
   ]
  },
  {
   "cell_type": "markdown",
   "metadata": {},
   "source": [
    "### % of bad buy:"
   ]
  },
  {
   "cell_type": "markdown",
   "metadata": {},
   "source": [
    "- Proportion of bad buy is ~12 %"
   ]
  },
  {
   "cell_type": "code",
   "execution_count": 50,
   "metadata": {},
   "outputs": [
    {
     "name": "stdout",
     "output_type": "stream",
     "text": [
      "0    64007\n",
      "1     8976\n",
      "Name: IsBadBuy, dtype: int64\n",
      "% bad buy: 0.122987545045\n"
     ]
    },
    {
     "data": {
      "image/png": "[encoded data removed]",
      "text/plain": [
       "<matplotlib.figure.Figure at 0x111a5c990>"
      ]
     },
     "metadata": {},
     "output_type": "display_data"
    }
   ],
   "source": [
    "print training.IsBadBuy.value_counts()\n",
    "training.IsBadBuy.value_counts().plot(kind='pie')\n",
    "print \"% bad buy:\", (8976.)/(64007+8976)"
   ]
  },
  {
   "cell_type": "code",
   "execution_count": 51,
   "metadata": {},
   "outputs": [
    {
     "name": "stdout",
     "output_type": "stream",
     "text": [
      "IsBadBuy        \n",
      "0         count         64007\n",
      "          unique           33\n",
      "          top       CHEVROLET\n",
      "          freq          15567\n",
      "1         count          8976\n",
      "          unique           30\n",
      "          top            FORD\n",
      "          freq           1742\n",
      "Name: Make, dtype: object\n",
      "IsBadBuy        \n",
      "0         count     64007\n",
      "          unique       37\n",
      "          top          TX\n",
      "          freq      11719\n",
      "1         count      8976\n",
      "          unique       36\n",
      "          top          TX\n",
      "          freq       1877\n",
      "Name: VNST, dtype: object\n"
     ]
    }
   ],
   "source": [
    "groupby_kicked = training.groupby(training.IsBadBuy)\n",
    "print groupby_kicked['Make'].describe()\n",
    "print groupby_kicked['VNST'].describe()"
   ]
  },
  {
   "cell_type": "markdown",
   "metadata": {},
   "source": [
    "### NaN Analysis\n",
    "- 95% of PRIMEUNIT and AUCGUART is NaN"
   ]
  },
  {
   "cell_type": "code",
   "execution_count": 52,
   "metadata": {},
   "outputs": [
    {
     "data": {
      "text/plain": [
       "IsBadBuy                             0.000000\n",
       "PurchDate                            0.000000\n",
       "Auction                              0.000000\n",
       "VehYear                              0.000000\n",
       "VehicleAge                           0.000000\n",
       "Make                                 0.000000\n",
       "Model                                0.000000\n",
       "Trim                                 0.032336\n",
       "SubModel                             0.000110\n",
       "Color                                0.000110\n",
       "Transmission                         0.000123\n",
       "WheelTypeID                          0.043421\n",
       "WheelType                            0.043490\n",
       "VehOdo                               0.000000\n",
       "Nationality                          0.000069\n",
       "Size                                 0.000069\n",
       "TopThreeAmericanName                 0.000069\n",
       "MMRAcquisitionAuctionAveragePrice    0.000247\n",
       "MMRAcquisitionAuctionCleanPrice      0.000247\n",
       "MMRAcquisitionRetailAveragePrice     0.000247\n",
       "MMRAcquisitonRetailCleanPrice        0.000247\n",
       "MMRCurrentAuctionAveragePrice        0.004316\n",
       "MMRCurrentAuctionCleanPrice          0.004316\n",
       "MMRCurrentRetailAveragePrice         0.004316\n",
       "MMRCurrentRetailCleanPrice           0.004316\n",
       "PRIMEUNIT                            0.953153\n",
       "AUCGUART                             0.953153\n",
       "BYRNO                                0.000000\n",
       "VNZIP1                               0.000000\n",
       "VNST                                 0.000000\n",
       "VehBCost                             0.000000\n",
       "IsOnlineSale                         0.000000\n",
       "WarrantyCost                         0.000000\n",
       "dtype: float64"
      ]
     },
     "execution_count": 52,
     "metadata": {},
     "output_type": "execute_result"
    }
   ],
   "source": [
    "training.isnull().sum()/len(training)"
   ]
  },
  {
   "cell_type": "markdown",
   "metadata": {},
   "source": [
    "- We drop NaN in continuous IV"
   ]
  },
  {
   "cell_type": "code",
   "execution_count": 53,
   "metadata": {
    "collapsed": true
   },
   "outputs": [],
   "source": [
    "training = training.dropna(subset=['MMRCurrentAuctionAveragePrice'])"
   ]
  },
  {
   "cell_type": "markdown",
   "metadata": {},
   "source": [
    "### Cross tabulations\n",
    "- Cross-tabulation to try to get an intuition of how distribution of categories impact the outcome"
   ]
  },
  {
   "cell_type": "markdown",
   "metadata": {},
   "source": []
  },
  {
   "cell_type": "code",
   "execution_count": 54,
   "metadata": {
    "scrolled": true
   },
   "outputs": [
    {
     "data": {
      "text/plain": [
       "<matplotlib.axes._subplots.AxesSubplot at 0x11ad9d310>"
      ]
     },
     "execution_count": 54,
     "metadata": {},
     "output_type": "execute_result"
    },
    {
     "data": {
      "image/png": "[encoded data removed]",
      "text/plain": [
       "<matplotlib.figure.Figure at 0x11ad42390>"
      ]
     },
     "metadata": {},
     "output_type": "display_data"
    }
   ],
   "source": [
    "ct = pd.crosstab(training.IsBadBuy, training.PurchDate, normalize=True)\n",
    "ct.plot.bar(legend=False)"
   ]
  },
  {
   "cell_type": "code",
   "execution_count": 55,
   "metadata": {},
   "outputs": [
    {
     "data": {
      "text/plain": [
       "<matplotlib.axes._subplots.AxesSubplot at 0x113178910>"
      ]
     },
     "execution_count": 55,
     "metadata": {},
     "output_type": "execute_result"
    },
    {
     "data": {
      "image/png": "[encoded data removed]",
      "text/plain": [
       "<matplotlib.figure.Figure at 0x112e1af90>"
      ]
     },
     "metadata": {},
     "output_type": "display_data"
    }
   ],
   "source": [
    "ct = pd.crosstab(training.IsBadBuy, training.VehicleAge, normalize=True)\n",
    "ct.plot.bar()"
   ]
  },
  {
   "cell_type": "code",
   "execution_count": 56,
   "metadata": {},
   "outputs": [
    {
     "data": {
      "text/plain": [
       "<matplotlib.axes._subplots.AxesSubplot at 0x11ad32910>"
      ]
     },
     "execution_count": 56,
     "metadata": {},
     "output_type": "execute_result"
    },
    {
     "data": {
      "image/png": "[encoded data removed]",
      "text/plain": [
       "<matplotlib.figure.Figure at 0x1132afe10>"
      ]
     },
     "metadata": {},
     "output_type": "display_data"
    }
   ],
   "source": [
    "ct = pd.crosstab(training.IsBadBuy, training.TopThreeAmericanName, normalize=True)\n",
    "ct.plot.bar()"
   ]
  },
  {
   "cell_type": "code",
   "execution_count": 57,
   "metadata": {},
   "outputs": [
    {
     "data": {
      "text/plain": [
       "<matplotlib.axes._subplots.AxesSubplot at 0x120b9d890>"
      ]
     },
     "execution_count": 57,
     "metadata": {},
     "output_type": "execute_result"
    },
    {
     "data": {
      "image/png": "[encoded data removed]",
      "text/plain": [
       "<matplotlib.figure.Figure at 0x11a4d9c50>"
      ]
     },
     "metadata": {},
     "output_type": "display_data"
    }
   ],
   "source": [
    "ct = pd.crosstab(training.IsBadBuy, training.AUCGUART,normalize=True)\n",
    "ct.plot.bar()"
   ]
  },
  {
   "cell_type": "code",
   "execution_count": 58,
   "metadata": {},
   "outputs": [
    {
     "data": {
      "text/plain": [
       "<matplotlib.axes._subplots.AxesSubplot at 0x1157c8550>"
      ]
     },
     "execution_count": 58,
     "metadata": {},
     "output_type": "execute_result"
    },
    {
     "data": {
      "image/png": "[encoded data removed]",
      "text/plain": [
       "<matplotlib.figure.Figure at 0x1157dc1d0>"
      ]
     },
     "metadata": {},
     "output_type": "display_data"
    }
   ],
   "source": [
    "ct = pd.crosstab(training.IsBadBuy, training.PRIMEUNIT,normalize=True)\n",
    "ct.plot.bar()"
   ]
  },
  {
   "cell_type": "markdown",
   "metadata": {},
   "source": [
    "- Looks like Trim is informative. its distributio varies for isbadbuy True vs. False"
   ]
  },
  {
   "cell_type": "code",
   "execution_count": 59,
   "metadata": {},
   "outputs": [
    {
     "data": {
      "text/plain": [
       "<matplotlib.axes._subplots.AxesSubplot at 0x11581b050>"
      ]
     },
     "execution_count": 59,
     "metadata": {},
     "output_type": "execute_result"
    },
    {
     "data": {
      "image/png": "[encoded data removed]",
      "text/plain": [
       "<matplotlib.figure.Figure at 0x11b7b3ed0>"
      ]
     },
     "metadata": {},
     "output_type": "display_data"
    }
   ],
   "source": [
    "ct = pd.crosstab(training.IsBadBuy, training.Trim, normalize=True)\n",
    "ct.plot.bar()"
   ]
  },
  {
   "cell_type": "code",
   "execution_count": 60,
   "metadata": {},
   "outputs": [
    {
     "data": {
      "text/plain": [
       "<matplotlib.axes._subplots.AxesSubplot at 0x115a86a10>"
      ]
     },
     "execution_count": 60,
     "metadata": {},
     "output_type": "execute_result"
    },
    {
     "data": {
      "image/png": "[encoded data removed]",
      "text/plain": [
       "<matplotlib.figure.Figure at 0x115a185d0>"
      ]
     },
     "metadata": {},
     "output_type": "display_data"
    }
   ],
   "source": [
    "ct = pd.crosstab(training.IsBadBuy, training.Size)\n",
    "ct.plot.bar()"
   ]
  },
  {
   "cell_type": "markdown",
   "metadata": {},
   "source": [
    "### Categorical feature selection"
   ]
  },
  {
   "cell_type": "markdown",
   "metadata": {},
   "source": [
    "- based on previous exploratory analysis and intuition, we pick a subset of categorical features"
   ]
  },
  {
   "cell_type": "code",
   "execution_count": 61,
   "metadata": {
    "collapsed": true
   },
   "outputs": [],
   "source": [
    "category_selection = ['Auction', 'Make', 'Model', 'SubModel', 'Transmission',\\\n",
    "              'WheelType', 'Nationality', 'TopThreeAmericanName',\\\n",
    "              'VNST', 'PRIMEUNIT', 'IsOnlineSale','Trim', 'Size']"
   ]
  },
  {
   "cell_type": "code",
   "execution_count": 62,
   "metadata": {
    "collapsed": true
   },
   "outputs": [],
   "source": [
    "# multicolinearity analysis requires too much processing\n",
    "# import mca\n",
    "# toto = training[category_selection]\n",
    "# toto_ = pd.get_dummies(toto)\n",
    "# mca_ben = mca.mca(toto_)"
   ]
  },
  {
   "cell_type": "markdown",
   "metadata": {},
   "source": [
    "## Correlation of continous variables\n",
    "- it looks like MMR continuous features are somewhat correlated we probably won't need all of them"
   ]
  },
  {
   "cell_type": "code",
   "execution_count": 63,
   "metadata": {
    "scrolled": true
   },
   "outputs": [
    {
     "data": {
      "image/png": "[encoded data removed]",
      "text/plain": [
       "<matplotlib.figure.Figure at 0x1169e06d0>"
      ]
     },
     "metadata": {},
     "output_type": "display_data"
    }
   ],
   "source": [
    "plt.imshow(abs(training[interval].corr()) , interpolation='nearest');\n",
    "ax = plt.axes()\n",
    "plt.colorbar()\n",
    "#ax.set_xticks(range(len(df.corr().columns)))\n",
    "ax.set_xticks(range(len(training.columns)))\n",
    "ax.set_xticklabels(training[interval].columns, rotation=90)\n",
    "ax.set_yticks(range(len(training.columns)))\n",
    "ax.set_yticklabels(training[interval].columns)\n",
    "plt.plot();"
   ]
  },
  {
   "cell_type": "code",
   "execution_count": 64,
   "metadata": {},
   "outputs": [
    {
     "data": {
      "image/png": "[encoded data removed]",
      "text/plain": [
       "<matplotlib.figure.Figure at 0x12137ca90>"
      ]
     },
     "metadata": {},
     "output_type": "display_data"
    },
    {
     "data": {
      "image/png": "[encoded data removed]",
      "text/plain": [
       "<matplotlib.figure.Figure at 0x12137cdd0>"
      ]
     },
     "metadata": {},
     "output_type": "display_data"
    },
    {
     "data": {
      "image/png": "[encoded data removed]",
      "text/plain": [
       "<matplotlib.figure.Figure at 0x12137b610>"
      ]
     },
     "metadata": {},
     "output_type": "display_data"
    },
    {
     "data": {
      "image/png": "[encoded data removed]",
      "text/plain": [
       "<matplotlib.figure.Figure at 0x12137c3d0>"
      ]
     },
     "metadata": {},
     "output_type": "display_data"
    },
    {
     "data": {
      "image/png": "[encoded data removed]",
      "text/plain": [
       "<matplotlib.figure.Figure at 0x11554a6d0>"
      ]
     },
     "metadata": {},
     "output_type": "display_data"
    }
   ],
   "source": [
    "training.boxplot(by='IsBadBuy', column='VehOdo')\n",
    "training.boxplot(by='IsBadBuy', column='MMRAcquisitionAuctionCleanPrice')\n",
    "training.boxplot(by='IsBadBuy', column='VehBCost')\n",
    "training.boxplot(by='IsBadBuy', column='WarrantyCost')\n",
    "training.boxplot(by='IsBadBuy', column='VehicleAge');"
   ]
  },
  {
   "cell_type": "markdown",
   "metadata": {},
   "source": []
  },
  {
   "cell_type": "markdown",
   "metadata": {},
   "source": [
    "## Continuous feature Selection"
   ]
  },
  {
   "cell_type": "markdown",
   "metadata": {},
   "source": [
    "- based on previous explorations we hand picked a subset of the continuous features (in the future more formal featue selection might be required)"
   ]
  },
  {
   "cell_type": "code",
   "execution_count": 65,
   "metadata": {
    "collapsed": true
   },
   "outputs": [],
   "source": [
    "interval_selection = ['MMRAcquisitionAuctionAveragePrice', 'VehOdo',\\\n",
    "                      'WarrantyCost', 'VehicleAge']"
   ]
  },
  {
   "cell_type": "markdown",
   "metadata": {},
   "source": [
    "# 4) Data Preprocessing"
   ]
  },
  {
   "cell_type": "markdown",
   "metadata": {},
   "source": [
    "- we do one hot encoding of categorical variables. increases features space by a lot. will need to do dimension reduction at some point.\n",
    "- we normalize continuous features"
   ]
  },
  {
   "cell_type": "code",
   "execution_count": 66,
   "metadata": {
    "collapsed": true
   },
   "outputs": [],
   "source": [
    "# pick\n",
    "# X = training[interval_selection+category_selection]\n",
    "X_interval = training[interval_selection]\n",
    "X_interval_ = preprocessing.normalize(X_interval)\n",
    "X_category = training[category_selection]\n",
    "X_category_ = pd.get_dummies(X_category)\n",
    "X_ = np.hstack((X_interval_, X_category_))\n",
    "y = training.IsBadBuy\n",
    "y_ = y.values.to_dense()"
   ]
  },
  {
   "cell_type": "code",
   "execution_count": null,
   "metadata": {
    "collapsed": true
   },
   "outputs": [],
   "source": []
  },
  {
   "cell_type": "code",
   "execution_count": 67,
   "metadata": {},
   "outputs": [
    {
     "name": "stdout",
     "output_type": "stream",
     "text": [
      "[[ 0.09119315  0.99575544  0.0124461  ...,  0.          0.          0.        ]\n",
      " [ 0.07303179  0.9972665   0.01122009 ...,  0.          0.          0.        ]\n",
      " [ 0.04333499  0.99888373  0.01879835 ...,  0.          0.          0.        ]\n",
      " [ 0.02883591  0.99953809  0.00959674 ...,  0.          0.          0.        ]\n",
      " [ 0.0563145   0.99830516  0.01467948 ...,  0.          0.          0.        ]]\n",
      "[0 0 0 0 0]\n"
     ]
    }
   ],
   "source": [
    "print X_[:5]\n",
    "print y_[:5]"
   ]
  },
  {
   "cell_type": "markdown",
   "metadata": {},
   "source": [
    "# 5) Modeling"
   ]
  },
  {
   "cell_type": "markdown",
   "metadata": {},
   "source": [
    "### Logistic regresssion classifier"
   ]
  },
  {
   "cell_type": "markdown",
   "metadata": {},
   "source": [
    "- we try with a simple model such as logistic regression first"
   ]
  },
  {
   "cell_type": "code",
   "execution_count": 68,
   "metadata": {},
   "outputs": [
    {
     "name": "stdout",
     "output_type": "stream",
     "text": [
      "(72668, 2167) (72668,)\n",
      "(58134, 2167) (58134,)\n",
      "(14534, 2167) (14534,)\n"
     ]
    }
   ],
   "source": [
    "X_train, X_test, y_train, y_test = train_test_split(X_, y_, test_size=0.2, stratify = y_)#, random_state=42)\n",
    "print X_.shape, y_.shape\n",
    "print X_train.shape, y_train.shape\n",
    "print X_test.shape, y_test.shape"
   ]
  },
  {
   "cell_type": "markdown",
   "metadata": {},
   "source": [
    "- classes are unbalanced so we put add weights that reflects that"
   ]
  },
  {
   "cell_type": "code",
   "execution_count": 83,
   "metadata": {},
   "outputs": [
    {
     "data": {
      "text/plain": [
       "LogisticRegression(C=1.0, class_weight='balanced', dual=False,\n",
       "          fit_intercept=True, intercept_scaling=1, max_iter=100,\n",
       "          multi_class='ovr', n_jobs=-1, penalty='l2', random_state=None,\n",
       "          solver='liblinear', tol=0.0001, verbose=0, warm_start=False)"
      ]
     },
     "execution_count": 83,
     "metadata": {},
     "output_type": "execute_result"
    }
   ],
   "source": [
    "lr = linear_model.LogisticRegression(C=1.0, class_weight='balanced', n_jobs =-1)\n",
    "#lr = LogisticRegression(C=1000.0, random_state=0)\n",
    "lr.fit(X_train, y_train)"
   ]
  },
  {
   "cell_type": "code",
   "execution_count": 74,
   "metadata": {},
   "outputs": [
    {
     "name": "stdout",
     "output_type": "stream",
     "text": [
      "0.757302095159\n",
      "0.74625017201\n"
     ]
    }
   ],
   "source": [
    "print lr.score(X_train, y_train)\n",
    "print lr.score(X_test, y_test)"
   ]
  },
  {
   "cell_type": "code",
   "execution_count": 75,
   "metadata": {},
   "outputs": [
    {
     "name": "stdout",
     "output_type": "stream",
     "text": [
      "yo\n"
     ]
    }
   ],
   "source": [
    "print \"yo\""
   ]
  },
  {
   "cell_type": "markdown",
   "metadata": {},
   "source": [
    "# 6) Evaluation"
   ]
  },
  {
   "cell_type": "markdown",
   "metadata": {},
   "source": [
    "- we want an evaluation that takes into account class imbalance & tradeoff precision/recall e.g. including F1 score "
   ]
  },
  {
   "cell_type": "markdown",
   "metadata": {},
   "source": [
    "### Classification report"
   ]
  },
  {
   "cell_type": "code",
   "execution_count": 84,
   "metadata": {},
   "outputs": [
    {
     "name": "stdout",
     "output_type": "stream",
     "text": [
      "−−−−−− training set report−−−−−\n",
      "             precision    recall  f1-score   support\n",
      "\n",
      "          0       0.94      0.77      0.85     50979\n",
      "          1       0.29      0.66      0.40      7155\n",
      "\n",
      "avg / total       0.86      0.76      0.79     58134\n",
      "\n",
      "−−−−−−− testing set report −−−−−\n",
      "             precision    recall  f1-score   support\n",
      "\n",
      "          0       0.93      0.77      0.84     12745\n",
      "          1       0.27      0.60      0.37      1789\n",
      "\n",
      "avg / total       0.85      0.75      0.78     14534\n",
      "\n"
     ]
    },
    {
     "data": {
      "text/plain": [
       "<matplotlib.colorbar.Colorbar at 0x121924e90>"
      ]
     },
     "execution_count": 84,
     "metadata": {},
     "output_type": "execute_result"
    },
    {
     "data": {
      "image/png": "[encoded data removed]",
      "text/plain": [
       "<matplotlib.figure.Figure at 0x116a2c250>"
      ]
     },
     "metadata": {},
     "output_type": "display_data"
    }
   ],
   "source": [
    "from sklearn import metrics\n",
    "from scipy.stats import sem\n",
    "print \"−−−−−− training set report−−−−−\"\n",
    "y_pred_train = lr.predict(X_train)\n",
    "print metrics.classification_report(y_train, y_pred_train)\n",
    "print \"−−−−−−− testing set report −−−−−\"\n",
    "y_pred_test = lr.predict(X_test)\n",
    "print metrics.classification_report(y_test, y_pred_test)\n",
    "confusion_matrix = metrics.confusion_matrix(y_test, y_pred_test)\n",
    "plt.matshow(confusion_matrix)\n",
    "plt.ylabel('True label')\n",
    "plt.xlabel('Predicted label')\n",
    "plt.colorbar()"
   ]
  },
  {
   "cell_type": "markdown",
   "metadata": {},
   "source": [
    "- Recall is not too bad. Overall we detect a good portion of the bad buys,  but precision for detecting bad buy is small. Too many false positive\n",
    "- from a business perspective maybe it's not such a bad thing to be conservative (good recall bad precision) and have the cars classified as potential bad buys double checked automatically"
   ]
  },
  {
   "cell_type": "markdown",
   "metadata": {},
   "source": [
    "### KFold cross-validation, error curves, AUC"
   ]
  },
  {
   "cell_type": "code",
   "execution_count": 89,
   "metadata": {},
   "outputs": [
    {
     "name": "stdout",
     "output_type": "stream",
     "text": [
      "5−Fold Cross Validation Accuracy: 0.74 (+/− 0.00)\n",
      "5−Fold Cross Validation F1: 0.78 (+/− 0.00)\n"
     ]
    }
   ],
   "source": [
    "# cv = model_selection.KFold(n_splits=3, shuffle=True)\n",
    "scores = model_selection.cross_val_score(lr, X_train, y_train , cv=3)\n",
    "print(\"%d−Fold Cross Validation Accuracy: %0.2f (+/− %0.2f)\"%(5,scores.mean() , sem(scores)))\n",
    "# scores = model_selection.cross_val_score(lr, X_train, y_train, cv=3, scoring='roc_auc')\n",
    "# print(\"%d−Fold Cross Validation AUC: %0.2f (+/− %0.2f)\"%(5,scores.mean() , sem(scores)))\n",
    "scores = model_selection.cross_val_score(lr, X_train, y_train, cv=3, scoring='f1_weighted')\n",
    "print(\"%d−Fold Cross Validation F1: %0.2f (+/− %0.2f)\"%(5,scores.mean() , sem(scores)))"
   ]
  },
  {
   "cell_type": "markdown",
   "metadata": {},
   "source": [
    "- we plot error curves to look at bias/variance tradeoff \n",
    "- we focus on F1 error measure"
   ]
  },
  {
   "cell_type": "code",
   "execution_count": 88,
   "metadata": {},
   "outputs": [
    {
     "data": {
      "image/png": "[encoded data removed]",
      "text/plain": [
       "<matplotlib.figure.Figure at 0x1213ca7d0>"
      ]
     },
     "metadata": {},
     "output_type": "display_data"
    }
   ],
   "source": [
    "def plotLearningCurve(X_train, y_train, clf):\n",
    "    plt.figure()\n",
    "    plt.title (\"Learning curve (SVM)\")\n",
    "    plt.xlabel(\"Training examples\")\n",
    "    plt.ylabel(\"Scores\")\n",
    "    train_sizes , train_scores , test_scores = model_selection.learning_curve(clf , X_train , y_train , cv=3, scoring='f1_weighted')\n",
    "    train_scores_mean = np.mean(train_scores , axis=1)\n",
    "    train_scores_std = np.std(train_scores , axis=1)\n",
    "    test_scores_mean = np.mean(test_scores , axis=1)\n",
    "    test_scores_std = np.std(test_scores , axis=1)\n",
    "    plt.plot(train_sizes, train_scores_mean , 'o-', label=\"Training score\", color=\"r\")\n",
    "    plt.fill_between(train_sizes , train_scores_mean-train_scores_std, train_scores_mean + train_scores_std, alpha=0.2, color=\"r\")\n",
    "    plt.plot(train_sizes, test_scores_mean,'o-', label=\"Validation score\",color =\"g\")\n",
    "    plt.fill_between(train_sizes, test_scores_mean - test_scores_std , test_scores_mean + test_scores_std , alpha=0.2, color=\"g\")\n",
    "    plt.legend(loc =\"best\")\n",
    "    plt.autoscale(tight=True)\n",
    "    plt.show()\n",
    "    \n",
    "plotLearningCurve(X_train, y_train, lr)"
   ]
  },
  {
   "cell_type": "markdown",
   "metadata": {},
   "source": [
    "- looks like our model has a high bias and adding more data doesn't really help. Next I would maybe look at more complex model such as SVM & grad boosting. and also look at dimension reduction"
   ]
  },
  {
   "cell_type": "code",
   "execution_count": 90,
   "metadata": {},
   "outputs": [
    {
     "name": "stdout",
     "output_type": "stream",
     "text": [
      "14534\n",
      "14534\n",
      "[ 0.          0.23326795  1.        ] [ 0.          0.60033538  1.        ] [2 1 0]\n"
     ]
    },
    {
     "data": {
      "text/plain": [
       "<matplotlib.legend.Legend at 0x115539f90>"
      ]
     },
     "execution_count": 90,
     "metadata": {},
     "output_type": "execute_result"
    },
    {
     "data": {
      "image/png": "[encoded data removed]",
      "text/plain": [
       "<matplotlib.figure.Figure at 0x120b9d550>"
      ]
     },
     "metadata": {},
     "output_type": "display_data"
    }
   ],
   "source": [
    "from sklearn.metrics import roc_curve, auc\n",
    "fpr, tpr, _ = metrics.roc_curve(y_test, y_pred_test)\n",
    "\n",
    "print len(y_test)\n",
    "print len(y_pred_test)\n",
    "print fpr, tpr, _\n",
    "\n",
    "roc_auc = auc(fpr, tpr)\n",
    "plt.plot(fpr, tpr, 'b', label='AUC = %0.2f'% roc_auc)\n",
    "plt.plot([0, 1], [0, 1], 'k--')\n",
    "plt.xlim([0.0, 1.0])\n",
    "plt.ylim([0.0, 1.0])\n",
    "plt.xlabel('False Positive Rate or (1 - Specifity)')\n",
    "plt.ylabel('True Positive Rate or (Sensitivity)')\n",
    "plt.title('Receiver Operating Characteristic')\n",
    "plt.legend(loc=\"lower right\")"
   ]
  },
  {
   "cell_type": "markdown",
   "metadata": {},
   "source": [
    "# 7) Potential next steps"
   ]
  },
  {
   "cell_type": "markdown",
   "metadata": {
    "collapsed": true
   },
   "source": [
    "- feature selection / dimension reduction\n",
    "- hyperparameter optimization (using Gridsearch e.g.)\n",
    "- complexify the model to reduce bias (SVM, xgboost, ...)\n",
    "- look at anomaly models\n",
    "- ..."
   ]
  },
  {
   "cell_type": "code",
   "execution_count": null,
   "metadata": {
    "collapsed": true
   },
   "outputs": [],
   "source": []
  }
 ],
 "metadata": {
  "kernelspec": {
   "display_name": "Python 2",
   "language": "python",
   "name": "python2"
  },
  "language_info": {
   "codemirror_mode": {
    "name": "ipython",
    "version": 2
   },
   "file_extension": ".py",
   "mimetype": "text/x-python",
   "name": "python",
   "nbconvert_exporter": "python",
   "pygments_lexer": "ipython2",
   "version": "2.7.13"
  }
 },
 "nbformat": 4,
 "nbformat_minor": 2
}
